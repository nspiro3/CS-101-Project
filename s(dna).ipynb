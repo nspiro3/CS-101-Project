{
 "cells": [
  {
   "cell_type": "code",
   "execution_count": null,
   "id": "0b0dc79d",
   "metadata": {},
   "outputs": [],
   "source": [
    "def s(dna):\n",
    "    \n",
    "    #calculates number of times each nucleotide appears in a string\n",
    "    #makes sure string is capatalized \n",
    "    \n",
    "    dna = dna.upper()\n",
    "    count_A = dna.count('A')\n",
    "    count_C = dna.count('C')\n",
    "    count_G = dna.count('G')\n",
    "    count_T = dna.count('T')\n",
    "    return count_A,count_C,count_G,count_T\n",
    "\n",
    "    \n",
    "#calls function and nucleotides being counted\n",
    "count = s(\"\")\n",
    "nucleotides = ('A','C','G','T')\n",
    "\n",
    "#makes a dictionary\n",
    "#creates an item using nucleotides and subsequent value count\n",
    "\n",
    "dictionary = dict(zip(nucleotides,count))\n",
    "\n",
    "\n",
    "print(dictionary)\n",
    "\n",
    "#sources\n",
    "#https://appdividend.com/2022/09/24/python-zip-dictionary/\n",
    "#https://www.youtube.com/watch?v=qj-V2Ep4coY"
   ]
  }
 ],
 "metadata": {
  "kernelspec": {
   "display_name": "Python 3 (ipykernel)",
   "language": "python",
   "name": "python3"
  },
  "language_info": {
   "codemirror_mode": {
    "name": "ipython",
    "version": 3
   },
   "file_extension": ".py",
   "mimetype": "text/x-python",
   "name": "python",
   "nbconvert_exporter": "python",
   "pygments_lexer": "ipython3",
   "version": "3.9.12"
  }
 },
 "nbformat": 4,
 "nbformat_minor": 5
}
